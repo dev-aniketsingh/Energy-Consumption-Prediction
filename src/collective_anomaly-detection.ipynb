{
 "cells": [
  {
   "cell_type": "code",
   "execution_count": 1,
   "metadata": {},
   "outputs": [],
   "source": [
    "import numpy as np\n",
    "import pandas as pd\n",
    "from matplotlib import pyplot as plt\n",
    "from sklearn.preprocessing import StandardScaler, RobustScaler, MinMaxScaler\n",
    "import seaborn as sns\n",
    "from collections import Counter\n",
    "from tqdm import tqdm_notebook as tqdm\n",
    "import pandas as pd\n",
    "import matplotlib.pyplot as plt\n",
    "import pickle\n",
    "from sklearn.ensemble import GradientBoostingRegressor"
   ]
  },
  {
   "cell_type": "markdown",
   "metadata": {},
   "source": [
    "# DATA PREP"
   ]
  },
  {
   "cell_type": "code",
   "execution_count": 2,
   "metadata": {},
   "outputs": [
    {
     "data": {
      "text/html": [
       "<div>\n",
       "<style scoped>\n",
       "    .dataframe tbody tr th:only-of-type {\n",
       "        vertical-align: middle;\n",
       "    }\n",
       "\n",
       "    .dataframe tbody tr th {\n",
       "        vertical-align: top;\n",
       "    }\n",
       "\n",
       "    .dataframe thead th {\n",
       "        text-align: right;\n",
       "    }\n",
       "</style>\n",
       "<table border=\"1\" class=\"dataframe\">\n",
       "  <thead>\n",
       "    <tr style=\"text-align: right;\">\n",
       "      <th></th>\n",
       "      <th>air_temp_set_1</th>\n",
       "      <th>air_temp_set_2</th>\n",
       "      <th>dew_point_temperature_set_1d</th>\n",
       "      <th>relative_humidity_set_1</th>\n",
       "      <th>solar_radiation_set_1</th>\n",
       "    </tr>\n",
       "    <tr>\n",
       "      <th>Timestamp</th>\n",
       "      <th></th>\n",
       "      <th></th>\n",
       "      <th></th>\n",
       "      <th></th>\n",
       "      <th></th>\n",
       "    </tr>\n",
       "  </thead>\n",
       "  <tbody>\n",
       "    <tr>\n",
       "      <th>2018-01-01 00:00:00+00:00</th>\n",
       "      <td>11.565</td>\n",
       "      <td>11.465</td>\n",
       "      <td>8.120</td>\n",
       "      <td>79.585</td>\n",
       "      <td>66.290</td>\n",
       "    </tr>\n",
       "    <tr>\n",
       "      <th>2018-01-01 00:30:00+00:00</th>\n",
       "      <td>11.515</td>\n",
       "      <td>11.460</td>\n",
       "      <td>8.160</td>\n",
       "      <td>80.060</td>\n",
       "      <td>36.525</td>\n",
       "    </tr>\n",
       "    <tr>\n",
       "      <th>2018-01-01 01:00:00+00:00</th>\n",
       "      <td>11.030</td>\n",
       "      <td>11.080</td>\n",
       "      <td>8.015</td>\n",
       "      <td>81.850</td>\n",
       "      <td>4.130</td>\n",
       "    </tr>\n",
       "    <tr>\n",
       "      <th>2018-01-01 01:30:00+00:00</th>\n",
       "      <td>10.750</td>\n",
       "      <td>10.785</td>\n",
       "      <td>7.975</td>\n",
       "      <td>83.150</td>\n",
       "      <td>0.120</td>\n",
       "    </tr>\n",
       "    <tr>\n",
       "      <th>2018-01-01 02:00:00+00:00</th>\n",
       "      <td>10.785</td>\n",
       "      <td>10.835</td>\n",
       "      <td>7.975</td>\n",
       "      <td>82.950</td>\n",
       "      <td>0.000</td>\n",
       "    </tr>\n",
       "  </tbody>\n",
       "</table>\n",
       "</div>"
      ],
      "text/plain": [
       "                           air_temp_set_1  air_temp_set_2  \\\n",
       "Timestamp                                                   \n",
       "2018-01-01 00:00:00+00:00          11.565          11.465   \n",
       "2018-01-01 00:30:00+00:00          11.515          11.460   \n",
       "2018-01-01 01:00:00+00:00          11.030          11.080   \n",
       "2018-01-01 01:30:00+00:00          10.750          10.785   \n",
       "2018-01-01 02:00:00+00:00          10.785          10.835   \n",
       "\n",
       "                           dew_point_temperature_set_1d  \\\n",
       "Timestamp                                                 \n",
       "2018-01-01 00:00:00+00:00                         8.120   \n",
       "2018-01-01 00:30:00+00:00                         8.160   \n",
       "2018-01-01 01:00:00+00:00                         8.015   \n",
       "2018-01-01 01:30:00+00:00                         7.975   \n",
       "2018-01-01 02:00:00+00:00                         7.975   \n",
       "\n",
       "                           relative_humidity_set_1  solar_radiation_set_1  \n",
       "Timestamp                                                                  \n",
       "2018-01-01 00:00:00+00:00                   79.585                 66.290  \n",
       "2018-01-01 00:30:00+00:00                   80.060                 36.525  \n",
       "2018-01-01 01:00:00+00:00                   81.850                  4.130  \n",
       "2018-01-01 01:30:00+00:00                   83.150                  0.120  \n",
       "2018-01-01 02:00:00+00:00                   82.950                  0.000  "
      ]
     },
     "execution_count": 2,
     "metadata": {},
     "output_type": "execute_result"
    }
   ],
   "source": [
    "#df = pd.read_csv(\"/Users/aniketsingh/SeniorProject/site_weather.csv\")\n",
    "#Making a list of missing values types\n",
    "missingValues = [\"n/a\", \"na\", \" \", \"__\"]\n",
    "data = pd.read_csv(\"/Users/aniketsingh/Desktop/SeniorProject/data/site_weather.csv\",na_values = missingValues)\n",
    "\n",
    "data.rename(columns = {'Unnamed: 0': 'Timestamp'}, inplace = True)\n",
    "data['Timestamp'] = pd.to_datetime(data['Timestamp'])\n",
    "data.set_index('Timestamp', inplace=True)\n",
    "\n",
    "#First few rows\n",
    "data.head()"
   ]
  },
  {
   "cell_type": "code",
   "execution_count": 3,
   "metadata": {},
   "outputs": [
    {
     "name": "stdout",
     "output_type": "stream",
     "text": [
      "-------------Here are the missing values----------\n"
     ]
    },
    {
     "data": {
      "text/plain": [
       "air_temp_set_1                  107\n",
       "air_temp_set_2                  127\n",
       "dew_point_temperature_set_1d    167\n",
       "relative_humidity_set_1         119\n",
       "solar_radiation_set_1           122\n",
       "dtype: int64"
      ]
     },
     "execution_count": 3,
     "metadata": {},
     "output_type": "execute_result"
    }
   ],
   "source": [
    "#Total missing values for each feature \n",
    "print(\"-------------Here are the missing values----------\")\n",
    "data.isnull().sum()"
   ]
  },
  {
   "cell_type": "code",
   "execution_count": 4,
   "metadata": {},
   "outputs": [
    {
     "name": "stdout",
     "output_type": "stream",
     "text": [
      "-------------Here are the missing values----------\n"
     ]
    },
    {
     "data": {
      "text/plain": [
       "air_temp_set_1                  0\n",
       "air_temp_set_2                  0\n",
       "dew_point_temperature_set_1d    0\n",
       "relative_humidity_set_1         0\n",
       "solar_radiation_set_1           0\n",
       "dtype: int64"
      ]
     },
     "execution_count": 4,
     "metadata": {},
     "output_type": "execute_result"
    }
   ],
   "source": [
    "# -------- Removing Missing Values-----#\n",
    "\n",
    "data = data.dropna()\n",
    "print(\"-------------Here are the missing values----------\")\n",
    "data.isnull().sum()"
   ]
  },
  {
   "cell_type": "code",
   "execution_count": 5,
   "metadata": {},
   "outputs": [
    {
     "data": {
      "text/html": [
       "<div>\n",
       "<style scoped>\n",
       "    .dataframe tbody tr th:only-of-type {\n",
       "        vertical-align: middle;\n",
       "    }\n",
       "\n",
       "    .dataframe tbody tr th {\n",
       "        vertical-align: top;\n",
       "    }\n",
       "\n",
       "    .dataframe thead th {\n",
       "        text-align: right;\n",
       "    }\n",
       "</style>\n",
       "<table border=\"1\" class=\"dataframe\">\n",
       "  <thead>\n",
       "    <tr style=\"text-align: right;\">\n",
       "      <th></th>\n",
       "      <th>air_temp_set_1</th>\n",
       "      <th>air_temp_set_2</th>\n",
       "      <th>dew_point_temperature_set_1d</th>\n",
       "      <th>relative_humidity_set_1</th>\n",
       "      <th>solar_radiation_set_1</th>\n",
       "    </tr>\n",
       "    <tr>\n",
       "      <th>Timestamp</th>\n",
       "      <th></th>\n",
       "      <th></th>\n",
       "      <th></th>\n",
       "      <th></th>\n",
       "      <th></th>\n",
       "    </tr>\n",
       "  </thead>\n",
       "  <tbody>\n",
       "    <tr>\n",
       "      <th>2018-01-01 00:00:00+00:00</th>\n",
       "      <td>0.26438</td>\n",
       "      <td>0.292965</td>\n",
       "      <td>0.741169</td>\n",
       "      <td>0.819823</td>\n",
       "      <td>0.063863</td>\n",
       "    </tr>\n",
       "  </tbody>\n",
       "</table>\n",
       "</div>"
      ],
      "text/plain": [
       "                           air_temp_set_1  air_temp_set_2  \\\n",
       "Timestamp                                                   \n",
       "2018-01-01 00:00:00+00:00         0.26438        0.292965   \n",
       "\n",
       "                           dew_point_temperature_set_1d  \\\n",
       "Timestamp                                                 \n",
       "2018-01-01 00:00:00+00:00                      0.741169   \n",
       "\n",
       "                           relative_humidity_set_1  solar_radiation_set_1  \n",
       "Timestamp                                                                  \n",
       "2018-01-01 00:00:00+00:00                 0.819823               0.063863  "
      ]
     },
     "execution_count": 5,
     "metadata": {},
     "output_type": "execute_result"
    }
   ],
   "source": [
    "# --------- Normalized-------#\n",
    "scaler = MinMaxScaler()\n",
    "data_norm = data.copy()\n",
    "data_norm[:] = scaler.fit_transform(data_norm)\n",
    "data_norm.head(1)"
   ]
  },
  {
   "cell_type": "code",
   "execution_count": 6,
   "metadata": {},
   "outputs": [],
   "source": [
    "def is_outlier(data, rolling_median, thresh):\n",
    "    if not pd.isna(rolling_median):\n",
    "        return abs(data - rolling_median) >= thresh"
   ]
  },
  {
   "cell_type": "code",
   "execution_count": 7,
   "metadata": {},
   "outputs": [],
   "source": [
    "data_nrm5 = data_norm.rolling(5, center=True).median()\n",
    "data_nc = data_norm.copy()\n",
    "s = data_nc.shape\n",
    "for j in range(s[1]):\n",
    "    for i in range(s[0]):\n",
    "        if is_outlier(data_nc.iloc[i, j], data_nrm5.iloc[i, j], 0.2):\n",
    "            data_nc.iloc[i, j] = data_nrm5.iloc[i, j]"
   ]
  },
  {
   "cell_type": "markdown",
   "metadata": {},
   "source": [
    "# Feature Extraction and Regression"
   ]
  },
  {
   "cell_type": "code",
   "execution_count": 8,
   "metadata": {},
   "outputs": [],
   "source": [
    "def ts_to_features(ts, n_features=48):\n",
    "    X, y = np.zeros([len(ts) - n_features, n_features]), np.zeros([len(ts) - n_features, 1])\n",
    "    for i in range(len(ts)-n_features):\n",
    "        X[i, :] = ts[i:i+n_features]\n",
    "        y[i] = ts[i+n_features]\n",
    "    return X, y.flatten()"
   ]
  },
  {
   "cell_type": "code",
   "execution_count": 9,
   "metadata": {},
   "outputs": [],
   "source": [
    "def ts_predict(X, y):\n",
    "    lower_alpha = 0.1\n",
    "    upper_alpha = 0.9\n",
    "    predictions = np.ones([1, 4])\n",
    "    for i in tqdm(range(1, X.shape[0])):\n",
    "        lower_model = GradientBoostingRegressor(loss=\"quantile\",                   \n",
    "                                        alpha=lower_alpha)\n",
    "        mid_model = GradientBoostingRegressor(loss=\"ls\")\n",
    "        upper_model = GradientBoostingRegressor(loss=\"quantile\",\n",
    "                                                alpha=upper_alpha)\n",
    "        lower_model.fit(X[:i,:], y[:i])\n",
    "        mid_model.fit(X[:i,:], y[:i])\n",
    "        upper_model.fit(X[:i,:], y[:i])\n",
    "        \n",
    "        pred = np.hstack([y[i], \n",
    "                          lower_model.predict(X[i:i+1, :]),\n",
    "                          mid_model.predict(X[i:i+1, :]),\n",
    "                          upper_model.predict(X[i:i+1, :])])\n",
    "        predictions = np.vstack([predictions, pred])\n",
    "    return predictions[1:, :]"
   ]
  },
  {
   "cell_type": "code",
   "execution_count": null,
   "metadata": {},
   "outputs": [
    {
     "name": "stderr",
     "output_type": "stream",
     "text": [
      "<ipython-input-9-bed56b3e746d>:5: TqdmDeprecationWarning: This function will be removed in tqdm==5.0.0\n",
      "Please use `tqdm.notebook.tqdm` instead of `tqdm.tqdm_notebook`\n",
      "  for i in tqdm(range(1, X.shape[0])):\n"
     ]
    },
    {
     "data": {
      "application/vnd.jupyter.widget-view+json": {
       "model_id": "849c8e0a484f40c0baf6217c621cecd8",
       "version_major": 2,
       "version_minor": 0
      },
      "text/plain": [
       "HBox(children=(HTML(value=''), FloatProgress(value=0.0, max=720.0), HTML(value='')))"
      ]
     },
     "metadata": {},
     "output_type": "display_data"
    }
   ],
   "source": [
    "h = data_nc.iloc[:, 0].values\n",
    "h = h[range(0, len(h), 48)]\n",
    "X, y = ts_to_features(h, 5)\n",
    "p = ts_predict(X, y)"
   ]
  },
  {
   "cell_type": "code",
   "execution_count": null,
   "metadata": {},
   "outputs": [],
   "source": [
    "p = pd.DataFrame(p)\n",
    "p.columns = ['actual', 'lower', 'mid', 'upper']\n",
    "p['label'] = np.ones(len(p))\n",
    "for i in range(len(p)):\n",
    "    if p['actual'].iloc[i] > p['upper'].iloc[i]:\n",
    "        p['label'].iloc[i] = 2\n",
    "    if p['actual'].iloc[i] < p['lower'].iloc[i]:\n",
    "        p['label'].iloc[i] = 0"
   ]
  },
  {
   "cell_type": "markdown",
   "metadata": {},
   "source": [
    "# Visualization"
   ]
  },
  {
   "cell_type": "code",
   "execution_count": null,
   "metadata": {},
   "outputs": [],
   "source": [
    "# Plot two scatter plots, showing the prediction interval and labels\n",
    "fig, (ax1, ax2) = plt.subplots(2, 1, sharex=True, figsize=(16, 10))\n",
    "ax1.scatter(p.index, p['actual'], color='tab:blue', alpha=1, label='Hourly Data')\n",
    "ax1.fill_between(p.index, p['upper'], p['lower'], color='tab:green', alpha=0.5, label='Prediction Interval')\n",
    "ax1.set_ylabel('Normalized Value')\n",
    "ax1.legend()\n",
    "ax1.set_title('Ozone - Low Conc.')\n",
    "ax2.plot(p['actual'], color='black', alpha=0.2)\n",
    "scatter = ax2.scatter(p.index, p['actual'], c=p['label'], cmap=plt.get_cmap('coolwarm'), alpha=0.8)\n",
    "ax2.set_xlabel('Hour')\n",
    "ax2.set_ylabel('Normalized Value')\n",
    "ax2.legend(handles=scatter.legend_elements()[0], labels=['Unexpected Decrease', 'Normal', 'Unexpected Increase'])\n",
    "plt.show()"
   ]
  },
  {
   "cell_type": "code",
   "execution_count": null,
   "metadata": {},
   "outputs": [],
   "source": []
  },
  {
   "cell_type": "code",
   "execution_count": null,
   "metadata": {},
   "outputs": [],
   "source": []
  }
 ],
 "metadata": {
  "kernelspec": {
   "display_name": "Python 3.8.5 64-bit",
   "language": "python",
   "name": "python38564bitee6ad5eec1f648eb9c83d336c40eaec2"
  },
  "language_info": {
   "codemirror_mode": {
    "name": "ipython",
    "version": 3
   },
   "file_extension": ".py",
   "mimetype": "text/x-python",
   "name": "python",
   "nbconvert_exporter": "python",
   "pygments_lexer": "ipython3",
   "version": "3.8.5"
  }
 },
 "nbformat": 4,
 "nbformat_minor": 4
}
