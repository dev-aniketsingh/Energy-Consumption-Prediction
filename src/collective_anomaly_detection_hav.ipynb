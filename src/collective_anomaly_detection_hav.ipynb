{
 "cells": [
  {
   "cell_type": "code",
   "execution_count": 1,
   "metadata": {},
   "outputs": [],
   "source": [
    "import numpy as np\n",
    "import pandas as pd\n",
    "from matplotlib import pyplot as plt\n",
    "from sklearn.preprocessing import StandardScaler, RobustScaler, MinMaxScaler\n",
    "import seaborn as sns\n",
    "from collections import Counter\n",
    "from tqdm import tqdm_notebook as tqdm\n",
    "import pandas as pd\n",
    "import matplotlib.pyplot as plt\n",
    "import pickle\n",
    "from sklearn.ensemble import GradientBoostingRegressor"
   ]
  },
  {
   "cell_type": "code",
   "execution_count": 4,
   "metadata": {},
   "outputs": [
    {
     "data": {
      "text/html": [
       "<div>\n",
       "<style scoped>\n",
       "    .dataframe tbody tr th:only-of-type {\n",
       "        vertical-align: middle;\n",
       "    }\n",
       "\n",
       "    .dataframe tbody tr th {\n",
       "        vertical-align: top;\n",
       "    }\n",
       "\n",
       "    .dataframe thead th {\n",
       "        text-align: right;\n",
       "    }\n",
       "</style>\n",
       "<table border=\"1\" class=\"dataframe\">\n",
       "  <thead>\n",
       "    <tr style=\"text-align: right;\">\n",
       "      <th></th>\n",
       "      <th>Timestamp</th>\n",
       "      <th>mels_S</th>\n",
       "      <th>lig_S</th>\n",
       "      <th>lig_N</th>\n",
       "      <th>mels_N</th>\n",
       "      <th>hvac_N</th>\n",
       "      <th>hvac_S</th>\n",
       "    </tr>\n",
       "  </thead>\n",
       "  <tbody>\n",
       "    <tr>\n",
       "      <th>0</th>\n",
       "      <td>2018-01-01 00:00:00+00:00</td>\n",
       "      <td>NaN</td>\n",
       "      <td>NaN</td>\n",
       "      <td>NaN</td>\n",
       "      <td>NaN</td>\n",
       "      <td>36.000000</td>\n",
       "      <td>22.500000</td>\n",
       "    </tr>\n",
       "    <tr>\n",
       "      <th>1</th>\n",
       "      <td>2018-01-01 00:30:00+00:00</td>\n",
       "      <td>NaN</td>\n",
       "      <td>NaN</td>\n",
       "      <td>NaN</td>\n",
       "      <td>NaN</td>\n",
       "      <td>37.700001</td>\n",
       "      <td>19.200001</td>\n",
       "    </tr>\n",
       "    <tr>\n",
       "      <th>2</th>\n",
       "      <td>2018-01-01 01:00:00+00:00</td>\n",
       "      <td>1.250000</td>\n",
       "      <td>0.200000</td>\n",
       "      <td>NaN</td>\n",
       "      <td>7.150000</td>\n",
       "      <td>37.450001</td>\n",
       "      <td>19.695000</td>\n",
       "    </tr>\n",
       "    <tr>\n",
       "      <th>3</th>\n",
       "      <td>2018-01-01 01:30:00+00:00</td>\n",
       "      <td>1.150000</td>\n",
       "      <td>0.200000</td>\n",
       "      <td>NaN</td>\n",
       "      <td>7.550000</td>\n",
       "      <td>37.600000</td>\n",
       "      <td>19.094999</td>\n",
       "    </tr>\n",
       "    <tr>\n",
       "      <th>4</th>\n",
       "      <td>2018-01-01 02:00:00+00:00</td>\n",
       "      <td>1.100000</td>\n",
       "      <td>0.200000</td>\n",
       "      <td>NaN</td>\n",
       "      <td>7.300000</td>\n",
       "      <td>37.300001</td>\n",
       "      <td>24.800000</td>\n",
       "    </tr>\n",
       "    <tr>\n",
       "      <th>...</th>\n",
       "      <td>...</td>\n",
       "      <td>...</td>\n",
       "      <td>...</td>\n",
       "      <td>...</td>\n",
       "      <td>...</td>\n",
       "      <td>...</td>\n",
       "      <td>...</td>\n",
       "    </tr>\n",
       "    <tr>\n",
       "      <th>35036</th>\n",
       "      <td>2019-12-31 22:00:00+00:00</td>\n",
       "      <td>1.795833</td>\n",
       "      <td>0.005556</td>\n",
       "      <td>NaN</td>\n",
       "      <td>8.585667</td>\n",
       "      <td>22.446974</td>\n",
       "      <td>23.104355</td>\n",
       "    </tr>\n",
       "    <tr>\n",
       "      <th>35037</th>\n",
       "      <td>2019-12-31 22:30:00+00:00</td>\n",
       "      <td>1.827083</td>\n",
       "      <td>0.000000</td>\n",
       "      <td>NaN</td>\n",
       "      <td>8.475536</td>\n",
       "      <td>23.469722</td>\n",
       "      <td>27.520789</td>\n",
       "    </tr>\n",
       "    <tr>\n",
       "      <th>35038</th>\n",
       "      <td>2019-12-31 23:00:00+00:00</td>\n",
       "      <td>1.754444</td>\n",
       "      <td>0.050000</td>\n",
       "      <td>NaN</td>\n",
       "      <td>8.572000</td>\n",
       "      <td>24.113158</td>\n",
       "      <td>25.355263</td>\n",
       "    </tr>\n",
       "    <tr>\n",
       "      <th>35039</th>\n",
       "      <td>2019-12-31 23:30:00+00:00</td>\n",
       "      <td>1.898889</td>\n",
       "      <td>0.386250</td>\n",
       "      <td>NaN</td>\n",
       "      <td>8.466270</td>\n",
       "      <td>24.302632</td>\n",
       "      <td>26.358289</td>\n",
       "    </tr>\n",
       "    <tr>\n",
       "      <th>35040</th>\n",
       "      <td>2020-01-01 00:00:00+00:00</td>\n",
       "      <td>1.757143</td>\n",
       "      <td>0.100000</td>\n",
       "      <td>NaN</td>\n",
       "      <td>8.198750</td>\n",
       "      <td>23.710526</td>\n",
       "      <td>28.021053</td>\n",
       "    </tr>\n",
       "  </tbody>\n",
       "</table>\n",
       "<p>35041 rows × 7 columns</p>\n",
       "</div>"
      ],
      "text/plain": [
       "                      Timestamp    mels_S     lig_S  lig_N    mels_N  \\\n",
       "0     2018-01-01 00:00:00+00:00       NaN       NaN    NaN       NaN   \n",
       "1     2018-01-01 00:30:00+00:00       NaN       NaN    NaN       NaN   \n",
       "2     2018-01-01 01:00:00+00:00  1.250000  0.200000    NaN  7.150000   \n",
       "3     2018-01-01 01:30:00+00:00  1.150000  0.200000    NaN  7.550000   \n",
       "4     2018-01-01 02:00:00+00:00  1.100000  0.200000    NaN  7.300000   \n",
       "...                         ...       ...       ...    ...       ...   \n",
       "35036 2019-12-31 22:00:00+00:00  1.795833  0.005556    NaN  8.585667   \n",
       "35037 2019-12-31 22:30:00+00:00  1.827083  0.000000    NaN  8.475536   \n",
       "35038 2019-12-31 23:00:00+00:00  1.754444  0.050000    NaN  8.572000   \n",
       "35039 2019-12-31 23:30:00+00:00  1.898889  0.386250    NaN  8.466270   \n",
       "35040 2020-01-01 00:00:00+00:00  1.757143  0.100000    NaN  8.198750   \n",
       "\n",
       "          hvac_N     hvac_S  \n",
       "0      36.000000  22.500000  \n",
       "1      37.700001  19.200001  \n",
       "2      37.450001  19.695000  \n",
       "3      37.600000  19.094999  \n",
       "4      37.300001  24.800000  \n",
       "...          ...        ...  \n",
       "35036  22.446974  23.104355  \n",
       "35037  23.469722  27.520789  \n",
       "35038  24.113158  25.355263  \n",
       "35039  24.302632  26.358289  \n",
       "35040  23.710526  28.021053  \n",
       "\n",
       "[35041 rows x 7 columns]"
      ]
     },
     "execution_count": 4,
     "metadata": {},
     "output_type": "execute_result"
    }
   ],
   "source": [
    "#Making a list of missing values types\n",
    "missingValues = [\"n/a\", \"na\", \" \", \"__\"]\n",
    "data = pd.read_csv(\"/Users/aniketsingh/Desktop/SeniorProject/data/ele.csv\",na_values = missingValues)\n",
    "\n",
    "data.rename(columns = {'Unnamed: 0': 'Timestamp'}, inplace = True)\n",
    "data['Timestamp'] = pd.to_datetime(data['Timestamp'])\n",
    "# data.set_index('Timestamp', inplace=True)\n",
    "\n",
    "#First few rows\n",
    "data.head()\n",
    "data"
   ]
  },
  {
   "cell_type": "code",
   "execution_count": 5,
   "metadata": {},
   "outputs": [
    {
     "name": "stderr",
     "output_type": "stream",
     "text": [
      "<ipython-input-5-89160ae1167f>:1: FutureWarning: Series.dt.weekofyear and Series.dt.week have been deprecated.  Please use Series.dt.isocalendar().week instead.\n",
      "  data['weekNumber'] = data['Timestamp'].dt.week\n"
     ]
    }
   ],
   "source": [
    "data['weekNumber'] = data['Timestamp'].dt.week"
   ]
  },
  {
   "cell_type": "code",
   "execution_count": 6,
   "metadata": {},
   "outputs": [],
   "source": [
    "data_first_week = data[data['weekNumber']==1]\n",
    "data_last_week = data[data['weekNumber']==52]"
   ]
  },
  {
   "cell_type": "code",
   "execution_count": 7,
   "metadata": {},
   "outputs": [
    {
     "data": {
      "text/html": [
       "<div>\n",
       "<style scoped>\n",
       "    .dataframe tbody tr th:only-of-type {\n",
       "        vertical-align: middle;\n",
       "    }\n",
       "\n",
       "    .dataframe tbody tr th {\n",
       "        vertical-align: top;\n",
       "    }\n",
       "\n",
       "    .dataframe thead th {\n",
       "        text-align: right;\n",
       "    }\n",
       "</style>\n",
       "<table border=\"1\" class=\"dataframe\">\n",
       "  <thead>\n",
       "    <tr style=\"text-align: right;\">\n",
       "      <th></th>\n",
       "      <th>Timestamp</th>\n",
       "      <th>mels_S</th>\n",
       "      <th>lig_S</th>\n",
       "      <th>lig_N</th>\n",
       "      <th>mels_N</th>\n",
       "      <th>hvac_N</th>\n",
       "      <th>hvac_S</th>\n",
       "      <th>weekNumber</th>\n",
       "    </tr>\n",
       "  </thead>\n",
       "  <tbody>\n",
       "    <tr>\n",
       "      <th>0</th>\n",
       "      <td>2018-01-01 00:00:00+00:00</td>\n",
       "      <td>NaN</td>\n",
       "      <td>NaN</td>\n",
       "      <td>NaN</td>\n",
       "      <td>NaN</td>\n",
       "      <td>36.000000</td>\n",
       "      <td>22.500000</td>\n",
       "      <td>1</td>\n",
       "    </tr>\n",
       "    <tr>\n",
       "      <th>1</th>\n",
       "      <td>2018-01-01 00:30:00+00:00</td>\n",
       "      <td>NaN</td>\n",
       "      <td>NaN</td>\n",
       "      <td>NaN</td>\n",
       "      <td>NaN</td>\n",
       "      <td>37.700001</td>\n",
       "      <td>19.200001</td>\n",
       "      <td>1</td>\n",
       "    </tr>\n",
       "    <tr>\n",
       "      <th>2</th>\n",
       "      <td>2018-01-01 01:00:00+00:00</td>\n",
       "      <td>1.250000</td>\n",
       "      <td>0.2</td>\n",
       "      <td>NaN</td>\n",
       "      <td>7.150000</td>\n",
       "      <td>37.450001</td>\n",
       "      <td>19.695000</td>\n",
       "      <td>1</td>\n",
       "    </tr>\n",
       "    <tr>\n",
       "      <th>3</th>\n",
       "      <td>2018-01-01 01:30:00+00:00</td>\n",
       "      <td>1.150000</td>\n",
       "      <td>0.2</td>\n",
       "      <td>NaN</td>\n",
       "      <td>7.550000</td>\n",
       "      <td>37.600000</td>\n",
       "      <td>19.094999</td>\n",
       "      <td>1</td>\n",
       "    </tr>\n",
       "    <tr>\n",
       "      <th>4</th>\n",
       "      <td>2018-01-01 02:00:00+00:00</td>\n",
       "      <td>1.100000</td>\n",
       "      <td>0.2</td>\n",
       "      <td>NaN</td>\n",
       "      <td>7.300000</td>\n",
       "      <td>37.300001</td>\n",
       "      <td>24.800000</td>\n",
       "      <td>1</td>\n",
       "    </tr>\n",
       "    <tr>\n",
       "      <th>...</th>\n",
       "      <td>...</td>\n",
       "      <td>...</td>\n",
       "      <td>...</td>\n",
       "      <td>...</td>\n",
       "      <td>...</td>\n",
       "      <td>...</td>\n",
       "      <td>...</td>\n",
       "      <td>...</td>\n",
       "    </tr>\n",
       "    <tr>\n",
       "      <th>1436</th>\n",
       "      <td>2019-12-29 21:30:00+00:00</td>\n",
       "      <td>1.838095</td>\n",
       "      <td>0.2</td>\n",
       "      <td>NaN</td>\n",
       "      <td>7.957500</td>\n",
       "      <td>20.295583</td>\n",
       "      <td>6.467895</td>\n",
       "      <td>52</td>\n",
       "    </tr>\n",
       "    <tr>\n",
       "      <th>1437</th>\n",
       "      <td>2019-12-29 22:00:00+00:00</td>\n",
       "      <td>1.685417</td>\n",
       "      <td>0.2</td>\n",
       "      <td>NaN</td>\n",
       "      <td>7.738571</td>\n",
       "      <td>19.957368</td>\n",
       "      <td>14.391053</td>\n",
       "      <td>52</td>\n",
       "    </tr>\n",
       "    <tr>\n",
       "      <th>1438</th>\n",
       "      <td>2019-12-29 22:30:00+00:00</td>\n",
       "      <td>1.800000</td>\n",
       "      <td>0.2</td>\n",
       "      <td>NaN</td>\n",
       "      <td>8.506111</td>\n",
       "      <td>21.036868</td>\n",
       "      <td>12.956868</td>\n",
       "      <td>52</td>\n",
       "    </tr>\n",
       "    <tr>\n",
       "      <th>1439</th>\n",
       "      <td>2019-12-29 23:00:00+00:00</td>\n",
       "      <td>1.810000</td>\n",
       "      <td>0.2</td>\n",
       "      <td>NaN</td>\n",
       "      <td>8.041857</td>\n",
       "      <td>20.385774</td>\n",
       "      <td>11.979673</td>\n",
       "      <td>52</td>\n",
       "    </tr>\n",
       "    <tr>\n",
       "      <th>1440</th>\n",
       "      <td>2019-12-29 23:30:00+00:00</td>\n",
       "      <td>1.722222</td>\n",
       "      <td>0.2</td>\n",
       "      <td>NaN</td>\n",
       "      <td>9.145347</td>\n",
       "      <td>19.759211</td>\n",
       "      <td>5.793553</td>\n",
       "      <td>52</td>\n",
       "    </tr>\n",
       "  </tbody>\n",
       "</table>\n",
       "<p>1441 rows × 8 columns</p>\n",
       "</div>"
      ],
      "text/plain": [
       "                     Timestamp    mels_S  lig_S  lig_N    mels_N     hvac_N  \\\n",
       "0    2018-01-01 00:00:00+00:00       NaN    NaN    NaN       NaN  36.000000   \n",
       "1    2018-01-01 00:30:00+00:00       NaN    NaN    NaN       NaN  37.700001   \n",
       "2    2018-01-01 01:00:00+00:00  1.250000    0.2    NaN  7.150000  37.450001   \n",
       "3    2018-01-01 01:30:00+00:00  1.150000    0.2    NaN  7.550000  37.600000   \n",
       "4    2018-01-01 02:00:00+00:00  1.100000    0.2    NaN  7.300000  37.300001   \n",
       "...                        ...       ...    ...    ...       ...        ...   \n",
       "1436 2019-12-29 21:30:00+00:00  1.838095    0.2    NaN  7.957500  20.295583   \n",
       "1437 2019-12-29 22:00:00+00:00  1.685417    0.2    NaN  7.738571  19.957368   \n",
       "1438 2019-12-29 22:30:00+00:00  1.800000    0.2    NaN  8.506111  21.036868   \n",
       "1439 2019-12-29 23:00:00+00:00  1.810000    0.2    NaN  8.041857  20.385774   \n",
       "1440 2019-12-29 23:30:00+00:00  1.722222    0.2    NaN  9.145347  19.759211   \n",
       "\n",
       "         hvac_S  weekNumber  \n",
       "0     22.500000           1  \n",
       "1     19.200001           1  \n",
       "2     19.695000           1  \n",
       "3     19.094999           1  \n",
       "4     24.800000           1  \n",
       "...         ...         ...  \n",
       "1436   6.467895          52  \n",
       "1437  14.391053          52  \n",
       "1438  12.956868          52  \n",
       "1439  11.979673          52  \n",
       "1440   5.793553          52  \n",
       "\n",
       "[1441 rows x 8 columns]"
      ]
     },
     "execution_count": 7,
     "metadata": {},
     "output_type": "execute_result"
    }
   ],
   "source": [
    "data = pd.concat([data_first_week,data_last_week],axis=0,ignore_index=True)\n",
    "data"
   ]
  },
  {
   "cell_type": "code",
   "execution_count": 8,
   "metadata": {},
   "outputs": [
    {
     "data": {
      "text/html": [
       "<div>\n",
       "<style scoped>\n",
       "    .dataframe tbody tr th:only-of-type {\n",
       "        vertical-align: middle;\n",
       "    }\n",
       "\n",
       "    .dataframe tbody tr th {\n",
       "        vertical-align: top;\n",
       "    }\n",
       "\n",
       "    .dataframe thead th {\n",
       "        text-align: right;\n",
       "    }\n",
       "</style>\n",
       "<table border=\"1\" class=\"dataframe\">\n",
       "  <thead>\n",
       "    <tr style=\"text-align: right;\">\n",
       "      <th></th>\n",
       "      <th>hvac_N</th>\n",
       "      <th>hvac_S</th>\n",
       "    </tr>\n",
       "    <tr>\n",
       "      <th>Timestamp</th>\n",
       "      <th></th>\n",
       "      <th></th>\n",
       "    </tr>\n",
       "  </thead>\n",
       "  <tbody>\n",
       "    <tr>\n",
       "      <th>2018-01-01 00:00:00+00:00</th>\n",
       "      <td>36.000000</td>\n",
       "      <td>22.500000</td>\n",
       "    </tr>\n",
       "    <tr>\n",
       "      <th>2018-01-01 00:30:00+00:00</th>\n",
       "      <td>37.700001</td>\n",
       "      <td>19.200001</td>\n",
       "    </tr>\n",
       "    <tr>\n",
       "      <th>2018-01-01 01:00:00+00:00</th>\n",
       "      <td>37.450001</td>\n",
       "      <td>19.695000</td>\n",
       "    </tr>\n",
       "    <tr>\n",
       "      <th>2018-01-01 01:30:00+00:00</th>\n",
       "      <td>37.600000</td>\n",
       "      <td>19.094999</td>\n",
       "    </tr>\n",
       "    <tr>\n",
       "      <th>2018-01-01 02:00:00+00:00</th>\n",
       "      <td>37.300001</td>\n",
       "      <td>24.800000</td>\n",
       "    </tr>\n",
       "    <tr>\n",
       "      <th>...</th>\n",
       "      <td>...</td>\n",
       "      <td>...</td>\n",
       "    </tr>\n",
       "    <tr>\n",
       "      <th>2019-12-29 21:30:00+00:00</th>\n",
       "      <td>20.295583</td>\n",
       "      <td>6.467895</td>\n",
       "    </tr>\n",
       "    <tr>\n",
       "      <th>2019-12-29 22:00:00+00:00</th>\n",
       "      <td>19.957368</td>\n",
       "      <td>14.391053</td>\n",
       "    </tr>\n",
       "    <tr>\n",
       "      <th>2019-12-29 22:30:00+00:00</th>\n",
       "      <td>21.036868</td>\n",
       "      <td>12.956868</td>\n",
       "    </tr>\n",
       "    <tr>\n",
       "      <th>2019-12-29 23:00:00+00:00</th>\n",
       "      <td>20.385774</td>\n",
       "      <td>11.979673</td>\n",
       "    </tr>\n",
       "    <tr>\n",
       "      <th>2019-12-29 23:30:00+00:00</th>\n",
       "      <td>19.759211</td>\n",
       "      <td>5.793553</td>\n",
       "    </tr>\n",
       "  </tbody>\n",
       "</table>\n",
       "<p>1441 rows × 2 columns</p>\n",
       "</div>"
      ],
      "text/plain": [
       "                              hvac_N     hvac_S\n",
       "Timestamp                                      \n",
       "2018-01-01 00:00:00+00:00  36.000000  22.500000\n",
       "2018-01-01 00:30:00+00:00  37.700001  19.200001\n",
       "2018-01-01 01:00:00+00:00  37.450001  19.695000\n",
       "2018-01-01 01:30:00+00:00  37.600000  19.094999\n",
       "2018-01-01 02:00:00+00:00  37.300001  24.800000\n",
       "...                              ...        ...\n",
       "2019-12-29 21:30:00+00:00  20.295583   6.467895\n",
       "2019-12-29 22:00:00+00:00  19.957368  14.391053\n",
       "2019-12-29 22:30:00+00:00  21.036868  12.956868\n",
       "2019-12-29 23:00:00+00:00  20.385774  11.979673\n",
       "2019-12-29 23:30:00+00:00  19.759211   5.793553\n",
       "\n",
       "[1441 rows x 2 columns]"
      ]
     },
     "execution_count": 8,
     "metadata": {},
     "output_type": "execute_result"
    }
   ],
   "source": [
    "data = data.drop(columns = ['mels_S','lig_S','lig_N','mels_N','weekNumber'])\n",
    "data.set_index('Timestamp', inplace=True)\n",
    "data"
   ]
  },
  {
   "cell_type": "code",
   "execution_count": 9,
   "metadata": {},
   "outputs": [
    {
     "name": "stdout",
     "output_type": "stream",
     "text": [
      "-------------Here are the missing values----------\n"
     ]
    },
    {
     "data": {
      "text/plain": [
       "hvac_N    112\n",
       "hvac_S    112\n",
       "dtype: int64"
      ]
     },
     "execution_count": 9,
     "metadata": {},
     "output_type": "execute_result"
    }
   ],
   "source": [
    "#Total missing values for each feature \n",
    "print(\"-------------Here are the missing values----------\")\n",
    "data.isnull().sum()"
   ]
  },
  {
   "cell_type": "code",
   "execution_count": 10,
   "metadata": {},
   "outputs": [
    {
     "name": "stdout",
     "output_type": "stream",
     "text": [
      "-------------Here are the missing values----------\n"
     ]
    },
    {
     "data": {
      "text/plain": [
       "hvac_N    0\n",
       "hvac_S    0\n",
       "dtype: int64"
      ]
     },
     "execution_count": 10,
     "metadata": {},
     "output_type": "execute_result"
    }
   ],
   "source": [
    "# -------- Removing Missing Values-----#\n",
    "\n",
    "data = data.dropna()\n",
    "print(\"-------------Here are the missing values----------\")\n",
    "data.isnull().sum()"
   ]
  },
  {
   "cell_type": "code",
   "execution_count": 11,
   "metadata": {},
   "outputs": [
    {
     "data": {
      "text/html": [
       "<div>\n",
       "<style scoped>\n",
       "    .dataframe tbody tr th:only-of-type {\n",
       "        vertical-align: middle;\n",
       "    }\n",
       "\n",
       "    .dataframe tbody tr th {\n",
       "        vertical-align: top;\n",
       "    }\n",
       "\n",
       "    .dataframe thead th {\n",
       "        text-align: right;\n",
       "    }\n",
       "</style>\n",
       "<table border=\"1\" class=\"dataframe\">\n",
       "  <thead>\n",
       "    <tr style=\"text-align: right;\">\n",
       "      <th></th>\n",
       "      <th>hvac_N</th>\n",
       "      <th>hvac_S</th>\n",
       "    </tr>\n",
       "    <tr>\n",
       "      <th>Timestamp</th>\n",
       "      <th></th>\n",
       "      <th></th>\n",
       "    </tr>\n",
       "  </thead>\n",
       "  <tbody>\n",
       "    <tr>\n",
       "      <th>2018-01-01 00:00:00+00:00</th>\n",
       "      <td>0.547529</td>\n",
       "      <td>0.434783</td>\n",
       "    </tr>\n",
       "  </tbody>\n",
       "</table>\n",
       "</div>"
      ],
      "text/plain": [
       "                             hvac_N    hvac_S\n",
       "Timestamp                                    \n",
       "2018-01-01 00:00:00+00:00  0.547529  0.434783"
      ]
     },
     "execution_count": 11,
     "metadata": {},
     "output_type": "execute_result"
    }
   ],
   "source": [
    "# --------- Normalized-------#\n",
    "scaler = MinMaxScaler()\n",
    "data_norm = data.copy()\n",
    "data_norm[:] = scaler.fit_transform(data_norm)\n",
    "data_norm.head(1)"
   ]
  },
  {
   "cell_type": "code",
   "execution_count": 12,
   "metadata": {},
   "outputs": [],
   "source": [
    "def is_outlier(data, rolling_median, thresh):\n",
    "    if not pd.isna(rolling_median):\n",
    "        return abs(data - rolling_median) >= thresh"
   ]
  },
  {
   "cell_type": "code",
   "execution_count": 13,
   "metadata": {},
   "outputs": [],
   "source": [
    "data_nrm5 = data_norm.rolling(5, center=True).median()\n",
    "data_nc = data_norm.copy()\n",
    "s = data_nc.shape\n",
    "for j in range(s[1]):\n",
    "    for i in range(s[0]):\n",
    "        if is_outlier(data_nc.iloc[i, j], data_nrm5.iloc[i, j], 0.2):\n",
    "            data_nc.iloc[i, j] = data_nrm5.iloc[i, j]"
   ]
  },
  {
   "cell_type": "code",
   "execution_count": 14,
   "metadata": {},
   "outputs": [],
   "source": [
    "def ts_to_features(ts, n_features=61):\n",
    "    X, y = np.zeros([len(ts) - n_features, n_features]), np.zeros([len(ts) - n_features, 1])\n",
    "    for i in range(len(ts)-n_features):\n",
    "        X[i, :] = ts[i:i+n_features]\n",
    "        y[i] = ts[i+n_features]\n",
    "    return X, y.flatten()"
   ]
  },
  {
   "cell_type": "code",
   "execution_count": 15,
   "metadata": {},
   "outputs": [],
   "source": [
    "def ts_predict(X, y):\n",
    "    lower_alpha = 0.1\n",
    "    upper_alpha = 0.9\n",
    "    predictions = np.ones([1, 4])\n",
    "    for i in tqdm(range(1, X.shape[0])):\n",
    "        lower_model = GradientBoostingRegressor(loss=\"quantile\",                   \n",
    "                                        alpha=lower_alpha)\n",
    "        mid_model = GradientBoostingRegressor(loss=\"ls\")\n",
    "        upper_model = GradientBoostingRegressor(loss=\"quantile\",\n",
    "                                                alpha=upper_alpha)\n",
    "        lower_model.fit(X[:i,:], y[:i])\n",
    "        mid_model.fit(X[:i,:], y[:i])\n",
    "        upper_model.fit(X[:i,:], y[:i])\n",
    "        \n",
    "        pred = np.hstack([y[i], \n",
    "                          lower_model.predict(X[i:i+1, :]),\n",
    "                          mid_model.predict(X[i:i+1, :]),\n",
    "                          upper_model.predict(X[i:i+1, :])])\n",
    "        predictions = np.vstack([predictions, pred])\n",
    "    return predictions[1:, :]"
   ]
  },
  {
   "cell_type": "markdown",
   "metadata": {},
   "source": [
    "# hvac_N"
   ]
  },
  {
   "cell_type": "code",
   "execution_count": 16,
   "metadata": {},
   "outputs": [
    {
     "name": "stderr",
     "output_type": "stream",
     "text": [
      "<ipython-input-15-bed56b3e746d>:5: TqdmDeprecationWarning: This function will be removed in tqdm==5.0.0\n",
      "Please use `tqdm.notebook.tqdm` instead of `tqdm.tqdm_notebook`\n",
      "  for i in tqdm(range(1, X.shape[0])):\n"
     ]
    },
    {
     "data": {
      "application/vnd.jupyter.widget-view+json": {
       "model_id": "800e9fd2d56f4da2a658585ff39d6b37",
       "version_major": 2,
       "version_minor": 0
      },
      "text/plain": [
       "HBox(children=(HTML(value=''), FloatProgress(value=0.0, max=16.0), HTML(value='')))"
      ]
     },
     "metadata": {},
     "output_type": "display_data"
    },
    {
     "name": "stdout",
     "output_type": "stream",
     "text": [
      "\n"
     ]
    }
   ],
   "source": [
    "h = data_nc.iloc[:, 0].values\n",
    "h = h[range(0, len(h), 61)]\n",
    "X, y = ts_to_features(h, 5)\n",
    "p = ts_predict(X, y)"
   ]
  },
  {
   "cell_type": "code",
   "execution_count": 17,
   "metadata": {},
   "outputs": [],
   "source": [
    "p = pd.DataFrame(p)\n",
    "p.columns = ['actual', 'lower', 'mid', 'upper']\n",
    "p['label'] = np.ones(len(p))\n",
    "for i in range(len(p)):\n",
    "    if p['actual'].iloc[i] > p['upper'].iloc[i]:\n",
    "        p['label'].iloc[i] = 2\n",
    "    if p['actual'].iloc[i] < p['lower'].iloc[i]:\n",
    "        p['label'].iloc[i] = 0"
   ]
  },
  {
   "cell_type": "code",
   "execution_count": 18,
   "metadata": {},
   "outputs": [
    {
     "data": {
      "image/png": "[encoded data removed]",
      "text/plain": [
       "<Figure size 1152x720 with 2 Axes>"
      ]
     },
     "metadata": {
      "needs_background": "light"
     },
     "output_type": "display_data"
    }
   ],
   "source": [
    "# Plot two scatter plots, showing the prediction interval and labels\n",
    "fig, (ax1, ax2) = plt.subplots(2, 1, sharex=True, figsize=(16, 10))\n",
    "ax1.scatter(p.index, p['actual'], color='tab:blue', alpha=1, label='Hourly Data')\n",
    "ax1.fill_between(p.index, p['upper'], p['lower'], color='tab:green', alpha=0.5, label='Prediction Interval')\n",
    "ax1.set_ylabel('Normalized Value')\n",
    "ax1.legend()\n",
    "ax1.set_title('Ozone - Low Conc.')\n",
    "ax2.plot(p['actual'], color='black', alpha=0.2)\n",
    "scatter = ax2.scatter(p.index, p['actual'], c=p['label'], cmap=plt.get_cmap('coolwarm'), alpha=0.8)\n",
    "ax2.set_xlabel('Hour')\n",
    "ax2.set_ylabel('Normalized Value')\n",
    "ax2.legend(handles=scatter.legend_elements()[0], labels=['Unexpected Decrease', 'Normal', 'Unexpected Increase'])\n",
    "plt.show()"
   ]
  },
  {
   "cell_type": "markdown",
   "metadata": {},
   "source": [
    "# hvac_S\n"
   ]
  },
  {
   "cell_type": "code",
   "execution_count": 19,
   "metadata": {},
   "outputs": [
    {
     "name": "stderr",
     "output_type": "stream",
     "text": [
      "<ipython-input-15-bed56b3e746d>:5: TqdmDeprecationWarning: This function will be removed in tqdm==5.0.0\n",
      "Please use `tqdm.notebook.tqdm` instead of `tqdm.tqdm_notebook`\n",
      "  for i in tqdm(range(1, X.shape[0])):\n"
     ]
    },
    {
     "data": {
      "application/vnd.jupyter.widget-view+json": {
       "model_id": "7bd824db82764edba4a8fd0bf2e851bc",
       "version_major": 2,
       "version_minor": 0
      },
      "text/plain": [
       "HBox(children=(HTML(value=''), FloatProgress(value=0.0, max=16.0), HTML(value='')))"
      ]
     },
     "metadata": {},
     "output_type": "display_data"
    },
    {
     "name": "stdout",
     "output_type": "stream",
     "text": [
      "\n"
     ]
    }
   ],
   "source": [
    "h = data_nc.iloc[:, 1].values\n",
    "h = h[range(0, len(h), 61)]\n",
    "X, y = ts_to_features(h, 5)\n",
    "p = ts_predict(X, y)"
   ]
  },
  {
   "cell_type": "code",
   "execution_count": 20,
   "metadata": {},
   "outputs": [],
   "source": [
    "p = pd.DataFrame(p)\n",
    "p.columns = ['actual', 'lower', 'mid', 'upper']\n",
    "p['label'] = np.ones(len(p))\n",
    "for i in range(len(p)):\n",
    "    if p['actual'].iloc[i] > p['upper'].iloc[i]:\n",
    "        p['label'].iloc[i] = 2\n",
    "    if p['actual'].iloc[i] < p['lower'].iloc[i]:\n",
    "        p['label'].iloc[i] = 0"
   ]
  },
  {
   "cell_type": "code",
   "execution_count": 21,
   "metadata": {},
   "outputs": [
    {
     "data": {
      "image/png": "[encoded data removed]",
      "text/plain": [
       "<Figure size 1152x720 with 2 Axes>"
      ]
     },
     "metadata": {
      "needs_background": "light"
     },
     "output_type": "display_data"
    }
   ],
   "source": [
    "# Plot two scatter plots, showing the prediction interval and labels\n",
    "fig, (ax1, ax2) = plt.subplots(2, 1, sharex=True, figsize=(16, 10))\n",
    "ax1.scatter(p.index, p['actual'], color='tab:blue', alpha=1, label='Hourly Data')\n",
    "ax1.fill_between(p.index, p['upper'], p['lower'], color='tab:green', alpha=0.5, label='Prediction Interval')\n",
    "ax1.set_ylabel('Normalized Value')\n",
    "ax1.legend()\n",
    "ax1.set_title('Ozone - Low Conc.')\n",
    "ax2.plot(p['actual'], color='black', alpha=0.2)\n",
    "scatter = ax2.scatter(p.index, p['actual'], c=p['label'], cmap=plt.get_cmap('coolwarm'), alpha=0.8)\n",
    "ax2.set_xlabel('Hour')\n",
    "ax2.set_ylabel('Normalized Value')\n",
    "ax2.legend(handles=scatter.legend_elements()[0], labels=['Unexpected Decrease', 'Normal', 'Unexpected Increase'])\n",
    "plt.show()"
   ]
  },
  {
   "cell_type": "code",
   "execution_count": null,
   "metadata": {},
   "outputs": [],
   "source": []
  }
 ],
 "metadata": {
  "kernelspec": {
   "display_name": "Python 3.8.5 64-bit",
   "language": "python",
   "name": "python38564bitee6ad5eec1f648eb9c83d336c40eaec2"
  },
  "language_info": {
   "codemirror_mode": {
    "name": "ipython",
    "version": 3
   },
   "file_extension": ".py",
   "mimetype": "text/x-python",
   "name": "python",
   "nbconvert_exporter": "python",
   "pygments_lexer": "ipython3",
   "version": "3.8.5"
  }
 },
 "nbformat": 4,
 "nbformat_minor": 4
}
