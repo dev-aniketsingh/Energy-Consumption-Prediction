{
 "cells": [
  {
   "cell_type": "code",
   "execution_count": null,
   "metadata": {
    "tags": []
   },
   "outputs": [],
   "source": [
    "#Importing libraries \n",
    "import pandas as pd\n",
    "import numpy as np\n",
    "\n",
    "#Read csv files into a pandas dataframe \n",
    "#df = pd.read_csv(\"/Users/aniketsingh/SeniorProject/site_weather.csv\")\n",
    "\n",
    "\n",
    "#Making a list of missing values types\n",
    "missingValues = [\"n/a\", \"na\", \" \", \"__\"]\n",
    "df = pd.read_csv(\"./data/site_weather.csv\", na_values = missingValues)\n",
    "\n",
    "df.rename(columns = {'Unnamed: 0': 'Date_And_Time'}, inplace = True)\n",
    "#First few rows\n",
    "print(df.head())\n",
    "\n",
    "\n",
    "\n",
    "#Total missing values for each feature \n",
    "print(\"-------------Here are the missing values----------\")\n",
    "print(df.isnull().sum())"
   ]
  },
  {
   "cell_type": "code",
   "execution_count": null,
   "metadata": {},
   "outputs": [],
   "source": [
    "import seaborn as sns; sns.set()\n",
    "import matplotlib.pyplot as plt\n",
    "sns.lineplot(x=\"Date_And_Time\", y=\"air_temp_set_1\", data=df[0:200])"
   ]
  }
 ],
 "metadata": {
  "kernelspec": {
   "display_name": "Python 3",
   "language": "python",
   "name": "python3"
  },
  "language_info": {
   "codemirror_mode": {
    "name": "ipython",
    "version": 3
   },
   "file_extension": ".py",
   "mimetype": "text/x-python",
   "name": "python",
   "nbconvert_exporter": "python",
   "pygments_lexer": "ipython3",
   "version": "3.7.6"
  }
 },
 "nbformat": 4,
 "nbformat_minor": 2
}
