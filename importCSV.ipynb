{
 "cells": [
  {
   "cell_type": "code",
   "execution_count": 8,
   "metadata": {
    "tags": []
   },
   "outputs": [
    {
     "name": "stdout",
     "output_type": "stream",
     "text": [
      "                   Timestamp  air_temp_set_1  air_temp_set_2  \\\n",
      "0  2018-01-01 00:00:00+00:00          11.565          11.465   \n",
      "1  2018-01-01 00:30:00+00:00          11.515          11.460   \n",
      "2  2018-01-01 01:00:00+00:00          11.030          11.080   \n",
      "3  2018-01-01 01:30:00+00:00          10.750          10.785   \n",
      "4  2018-01-01 02:00:00+00:00          10.785          10.835   \n",
      "\n",
      "   dew_point_temperature_set_1d  relative_humidity_set_1  \\\n",
      "0                         8.120                   79.585   \n",
      "1                         8.160                   80.060   \n",
      "2                         8.015                   81.850   \n",
      "3                         7.975                   83.150   \n",
      "4                         7.975                   82.950   \n",
      "\n",
      "   solar_radiation_set_1  \n",
      "0                 66.290  \n",
      "1                 36.525  \n",
      "2                  4.130  \n",
      "3                  0.120  \n",
      "4                  0.000  \n",
      "-------------Here are the missing values----------\n",
      "Timestamp                         0\n",
      "air_temp_set_1                  107\n",
      "air_temp_set_2                  127\n",
      "dew_point_temperature_set_1d    167\n",
      "relative_humidity_set_1         119\n",
      "solar_radiation_set_1           122\n",
      "dtype: int64\n"
     ]
    }
   ],
   "source": [
    "#Importing libraries \n",
    "import numpy as np\n",
    "import pandas as pd\n",
    "from matplotlib import pyplot as plt\n",
    "\n",
    "#Read csv files into a pandas dataframe \n",
    "#df = pd.read_csv(\"/Users/aniketsingh/SeniorProject/site_weather.csv\")\n",
    "\n",
    "\n",
    "#Making a list of missing values types\n",
    "missingValues = [\"n/a\", \"na\", \" \", \"__\"]\n",
    "data = pd.read_csv(\"./data/site_weather.csv\", na_values = missingValues)\n",
    "\n",
    "data.rename(columns = {'Unnamed: 0': 'Timestamp'}, inplace = True)\n",
    "#First few rows\n",
    "print(data.head())\n",
    "\n",
    "\n",
    "\n",
    "#Total missing values for each feature \n",
    "print(\"-------------Here are the missing values----------\")\n",
    "print(data.isnull().sum())"
   ]
  },
  {
   "cell_type": "code",
   "execution_count": 9,
   "metadata": {},
   "outputs": [
    {
     "data": {
      "text/plain": [
       "<matplotlib.axes._subplots.AxesSubplot at 0x7ff596978f70>"
      ]
     },
     "execution_count": 9,
     "metadata": {},
     "output_type": "execute_result"
    },
    {
     "data": {
      "image/png": "[encoded data removed]",
      "text/plain": [
       "<Figure size 432x288 with 1 Axes>"
      ]
     },
     "metadata": {},
     "output_type": "display_data"
    }
   ],
   "source": [
    "import seaborn as sns; sns.set()\n",
    "import matplotlib.pyplot as plt\n",
    "sns.lineplot(x=\"Timestamp\", y=\"air_temp_set_1\", data=data[0:5])"
   ]
  },
  {
   "cell_type": "code",
   "execution_count": null,
   "metadata": {},
   "outputs": [],
   "source": []
  },
  {
   "cell_type": "code",
   "execution_count": null,
   "metadata": {},
   "outputs": [],
   "source": []
  },
  {
   "cell_type": "code",
   "execution_count": 1,
   "metadata": {},
   "outputs": [],
   "source": [
    "# # scaler = StandardScaler()\n",
    "# # scaler = RobustScaler()\n",
    "# from sklearn.preprocessing import StandardScaler, RobustScaler, MinMaxScaler\n",
    "# import seaborn as sns\n",
    "# from collections import Counter\n",
    "# scaler = MinMaxScaler()\n",
    "# data_norm = data.copy()\n",
    "# data_norm[:] = scaler.fit_transform(data_norm)"
   ]
  },
  {
   "cell_type": "code",
   "execution_count": null,
   "metadata": {},
   "outputs": [],
   "source": []
  }
 ],
 "metadata": {
  "kernelspec": {
   "display_name": "Python 3",
   "language": "python",
   "name": "python3"
  },
  "language_info": {
   "codemirror_mode": {
    "name": "ipython",
    "version": 3
   },
   "file_extension": ".py",
   "mimetype": "text/x-python",
   "name": "python",
   "nbconvert_exporter": "python",
   "pygments_lexer": "ipython3",
   "version": "3.8.3"
  }
 },
 "nbformat": 4,
 "nbformat_minor": 4
}
