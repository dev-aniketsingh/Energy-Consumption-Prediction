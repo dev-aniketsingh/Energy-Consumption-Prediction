{
 "metadata": {
  "language_info": {
   "codemirror_mode": {
    "name": "ipython",
    "version": 3
   },
   "file_extension": ".py",
   "mimetype": "text/x-python",
   "name": "python",
   "nbconvert_exporter": "python",
   "pygments_lexer": "ipython3",
   "version": "3.7.6-final"
  },
  "orig_nbformat": 2,
  "kernelspec": {
   "name": "python_defaultSpec_1599242107864",
   "display_name": "Python 3.7.6 64-bit ('base': conda)"
  }
 },
 "nbformat": 4,
 "nbformat_minor": 2,
 "cells": [
  {
   "cell_type": "code",
   "execution_count": 2,
   "metadata": {
    "tags": []
   },
   "outputs": [
    {
     "output_type": "stream",
     "name": "stdout",
     "text": "Date_And_Time  air_temp_set_1  air_temp_set_2  \\\n0  2018-01-01 00:00:00+00:00          11.565          11.465   \n1  2018-01-01 00:30:00+00:00          11.515          11.460   \n2  2018-01-01 01:00:00+00:00          11.030          11.080   \n3  2018-01-01 01:30:00+00:00          10.750          10.785   \n4  2018-01-01 02:00:00+00:00          10.785          10.835   \n\n   dew_point_temperature_set_1d  relative_humidity_set_1  \\\n0                         8.120                   79.585   \n1                         8.160                   80.060   \n2                         8.015                   81.850   \n3                         7.975                   83.150   \n4                         7.975                   82.950   \n\n   solar_radiation_set_1  \n0                 66.290  \n1                 36.525  \n2                  4.130  \n3                  0.120  \n4                  0.000  \n-------------Here are the missing values----------\nDate_And_Time                     0\nair_temp_set_1                  107\nair_temp_set_2                  127\ndew_point_temperature_set_1d    167\nrelative_humidity_set_1         119\nsolar_radiation_set_1           122\ndtype: int64\n"
    }
   ],
   "source": [
    "#Importing libraries \n",
    "import pandas as pd\n",
    "import numpy as np\n",
    "\n",
    "#Read csv files into a pandas dataframe \n",
    "#df = pd.read_csv(\"/Users/aniketsingh/SeniorProject/site_weather.csv\")\n",
    "\n",
    "\n",
    "#Making a list of missing values types\n",
    "missingValues = [\"n/a\", \"na\", \" \", \"__\"]\n",
    "df = pd.read_csv(\"./data/site_weather.csv\", na_values = missingValues)\n",
    "\n",
    "df.rename(columns = {'Unnamed: 0': 'Date_And_Time'}, inplace = True)\n",
    "#First few rows\n",
    "print(df.head())\n",
    "\n",
    "\n",
    "\n",
    "#Total missing values for each feature \n",
    "print(\"-------------Here are the missing values----------\")\n",
    "print(df.isnull().sum())\n",
    "\n",
    "\n",
    "\n"
   ]
  },
  {
   "cell_type": "code",
   "execution_count": 7,
   "metadata": {},
   "outputs": [],
   "source": [
    "import seaborn as sns; sns.set()\n",
    "import matplotlib.pyplot as plt\n",
    "ax = sns.lineplot(x=\"Date_And_Time\", y=\"air_temp_set_1\", data=df[0:200])"
   ]
  }
 ]
}